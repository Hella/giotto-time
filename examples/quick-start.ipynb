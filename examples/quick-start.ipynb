{
 "cells": [
  {
   "cell_type": "markdown",
   "metadata": {
    "ExecuteTime": {
     "end_time": "2019-12-19T10:34:45.079040Z",
     "start_time": "2019-12-19T10:34:45.075853Z"
    }
   },
   "source": [
    "# Giotto-Time\n",
    "\n",
    "Welcome to `giotto-time`, our new library for time series forecasting!\n",
    "\n",
    "Let's start with an example."
   ]
  },
  {
   "cell_type": "markdown",
   "metadata": {
    "ExecuteTime": {
     "end_time": "2019-12-19T10:37:13.829605Z",
     "start_time": "2019-12-19T10:37:13.827033Z"
    }
   },
   "source": [
    "## First example"
   ]
  },
  {
   "cell_type": "markdown",
   "metadata": {
    "ExecuteTime": {
     "end_time": "2019-12-19T10:51:37.701263Z",
     "start_time": "2019-12-19T10:51:37.698686Z"
    }
   },
   "source": [
    "### Ingredients"
   ]
  },
  {
   "cell_type": "markdown",
   "metadata": {
    "ExecuteTime": {
     "end_time": "2019-12-19T10:43:03.249232Z",
     "start_time": "2019-12-19T10:43:03.244743Z"
    }
   },
   "source": [
    "These are the main ingredients of `giotto-time`:"
   ]
  },
  {
   "cell_type": "code",
   "execution_count": 1,
   "metadata": {
    "ExecuteTime": {
     "end_time": "2019-12-19T14:12:59.958832Z",
     "start_time": "2019-12-19T14:12:59.307286Z"
    }
   },
   "outputs": [],
   "source": [
    "from giottotime.time_series_preparation import TimeSeriesPreparation\n",
    "from giottotime.feature_creation import FeatureCreation, ShiftFeature, MovingAverageFeature\n",
    "from giottotime.model_selection import FeatureSplitter\n",
    "from giottotime.models import GAR"
   ]
  },
  {
   "cell_type": "markdown",
   "metadata": {
    "ExecuteTime": {
     "end_time": "2019-12-19T10:43:23.300668Z",
     "start_time": "2019-12-19T10:43:23.100775Z"
    }
   },
   "source": [
    "- `TimeSeriesPreparation`: checks the input format of the time series and converts it to the expected format.\n",
    "- `FeatureCreation`, `ShiftFeature`, `MovingAverageFeature`: create the desired features on the time series that are \n",
    "    used for the forecasting.\n",
    "- `FeatureSplitter`: prepares the custom `giotto-time` train-test matrices that are used in the model\n",
    "- `GAR`: generalized-auto-regressive model. This is the only time series model that we provide for the first release."
   ]
  },
  {
   "cell_type": "markdown",
   "metadata": {
    "ExecuteTime": {
     "end_time": "2019-12-19T10:50:42.797962Z",
     "start_time": "2019-12-19T10:50:42.792529Z"
    }
   },
   "source": [
    "We also need a `scikit-learn`-model. We go for a standard linear regressor for this example"
   ]
  },
  {
   "cell_type": "code",
   "execution_count": 2,
   "metadata": {
    "ExecuteTime": {
     "end_time": "2019-12-19T14:13:00.294607Z",
     "start_time": "2019-12-19T14:13:00.291612Z"
    }
   },
   "outputs": [],
   "source": [
    "from sklearn.linear_model import LinearRegression"
   ]
  },
  {
   "cell_type": "markdown",
   "metadata": {
    "ExecuteTime": {
     "end_time": "2019-12-19T10:51:15.298065Z",
     "start_time": "2019-12-19T10:51:15.295733Z"
    }
   },
   "source": [
    "### Data"
   ]
  },
  {
   "cell_type": "markdown",
   "metadata": {
    "ExecuteTime": {
     "end_time": "2019-12-19T10:55:55.362286Z",
     "start_time": "2019-12-19T10:55:55.358045Z"
    }
   },
   "source": [
    "We use the `pandas.testing` module to create a testing time series"
   ]
  },
  {
   "cell_type": "code",
   "execution_count": 3,
   "metadata": {
    "ExecuteTime": {
     "end_time": "2019-12-19T14:13:00.964858Z",
     "start_time": "2019-12-19T14:13:00.961460Z"
    }
   },
   "outputs": [],
   "source": [
    "def test_time_series():\n",
    "    from pandas.util import testing as testing\n",
    "    \n",
    "    testing.N, testing.K = 500, 1\n",
    "    df = testing.makeTimeDataFrame( freq=\"D\" )\n",
    "    return df"
   ]
  },
  {
   "cell_type": "code",
   "execution_count": 4,
   "metadata": {
    "ExecuteTime": {
     "end_time": "2019-12-19T14:13:01.303804Z",
     "start_time": "2019-12-19T14:13:01.299245Z"
    }
   },
   "outputs": [],
   "source": [
    "time_series = test_time_series()"
   ]
  },
  {
   "cell_type": "markdown",
   "metadata": {
    "ExecuteTime": {
     "end_time": "2019-12-19T13:37:09.941132Z",
     "start_time": "2019-12-19T13:37:09.938476Z"
    }
   },
   "source": [
    "### Time Series Preparation"
   ]
  },
  {
   "cell_type": "markdown",
   "metadata": {
    "ExecuteTime": {
     "end_time": "2019-12-19T13:37:33.357619Z",
     "start_time": "2019-12-19T13:37:33.347192Z"
    }
   },
   "source": [
    "The input time series has to be a `pandas.DataFrame` with a `PeriodIndex`. Use the provided class `TimeSeriesPreparation` to convert the time series in this format"
   ]
  },
  {
   "cell_type": "code",
   "execution_count": 5,
   "metadata": {
    "ExecuteTime": {
     "end_time": "2019-12-19T14:13:02.320075Z",
     "start_time": "2019-12-19T14:13:02.317384Z"
    }
   },
   "outputs": [],
   "source": [
    "time_series_preparation = TimeSeriesPreparation()"
   ]
  },
  {
   "cell_type": "code",
   "execution_count": 7,
   "metadata": {
    "ExecuteTime": {
     "end_time": "2019-12-19T14:13:04.685763Z",
     "start_time": "2019-12-19T14:13:04.681195Z"
    }
   },
   "outputs": [],
   "source": [
    "period_index_time_series = time_series_preparation.transform(time_series)"
   ]
  },
  {
   "cell_type": "markdown",
   "metadata": {
    "ExecuteTime": {
     "end_time": "2019-12-19T14:15:31.332440Z",
     "start_time": "2019-12-19T14:15:31.322583Z"
    }
   },
   "source": [
    "### Feature Creation"
   ]
  },
  {
   "cell_type": "markdown",
   "metadata": {
    "ExecuteTime": {
     "end_time": "2019-12-19T14:20:25.312078Z",
     "start_time": "2019-12-19T14:20:25.307741Z"
    }
   },
   "source": [
    "The feature creation part is one of the core part of our library and the bridge between traditional time series forecasting techniques and machine learning.\n",
    "\n",
    "Starting with a time series in a `pandas.DataFrame`, we create two matrices `X` and `y` which can be used for training and testing."
   ]
  },
  {
   "cell_type": "markdown",
   "metadata": {
    "ExecuteTime": {
     "end_time": "2019-12-19T14:49:59.729021Z",
     "start_time": "2019-12-19T14:49:59.718573Z"
    }
   },
   "source": [
    "We provide 12 different features. For simplicity we train a model using only `ShiftFeature` and `MovingAverageFeature`. \n",
    "\n",
    "`ShiftFeature` provides a temporal shift of the time series. Adding two `ShiftFeature` with shifts 1 and 2 is equivalent to an `AR(2)` model. \n",
    "\n",
    "The possibility to add the features that you want allows you to choose the model that best fits your data."
   ]
  },
  {
   "cell_type": "code",
   "execution_count": 12,
   "metadata": {
    "ExecuteTime": {
     "end_time": "2019-12-19T14:17:42.856996Z",
     "start_time": "2019-12-19T14:17:42.853237Z"
    }
   },
   "outputs": [],
   "source": [
    "features = [\n",
    "    ShiftFeature(1, output_name='shift_1'),\n",
    "    ShiftFeature(2, output_name='shift_2'),\n",
    "    MovingAverageFeature(3, output_name='moving_average_3'),\n",
    "]"
   ]
  },
  {
   "cell_type": "code",
   "execution_count": 13,
   "metadata": {
    "ExecuteTime": {
     "end_time": "2019-12-19T14:18:17.215100Z",
     "start_time": "2019-12-19T14:18:17.211908Z"
    }
   },
   "outputs": [],
   "source": [
    "feature_creation = FeatureCreation(time_series_features=features, horizon=3)"
   ]
  },
  {
   "cell_type": "code",
   "execution_count": 17,
   "metadata": {
    "ExecuteTime": {
     "end_time": "2019-12-19T14:21:07.990558Z",
     "start_time": "2019-12-19T14:21:07.970206Z"
    }
   },
   "outputs": [],
   "source": [
    "features_X, features_y = feature_creation.fit_transform(period_index_time_series)"
   ]
  },
  {
   "cell_type": "markdown",
   "metadata": {
    "ExecuteTime": {
     "end_time": "2019-12-19T14:42:32.549572Z",
     "start_time": "2019-12-19T14:42:32.547124Z"
    }
   },
   "source": [
    "### Train-Test split"
   ]
  },
  {
   "cell_type": "code",
   "execution_count": 21,
   "metadata": {
    "ExecuteTime": {
     "end_time": "2019-12-19T14:43:02.820280Z",
     "start_time": "2019-12-19T14:43:02.817384Z"
    }
   },
   "outputs": [],
   "source": [
    "feature_splitter = FeatureSplitter()"
   ]
  },
  {
   "cell_type": "code",
   "execution_count": 23,
   "metadata": {
    "ExecuteTime": {
     "end_time": "2019-12-19T14:43:40.401560Z",
     "start_time": "2019-12-19T14:43:40.380814Z"
    }
   },
   "outputs": [],
   "source": [
    "X_train, y_train, X_test, y_test = feature_splitter.transform(features_X, features_y)"
   ]
  },
  {
   "cell_type": "markdown",
   "metadata": {
    "ExecuteTime": {
     "end_time": "2019-12-19T14:44:02.820817Z",
     "start_time": "2019-12-19T14:44:02.818276Z"
    }
   },
   "source": [
    "### Training"
   ]
  },
  {
   "cell_type": "code",
   "execution_count": 30,
   "metadata": {
    "ExecuteTime": {
     "end_time": "2019-12-19T14:45:09.230395Z",
     "start_time": "2019-12-19T14:45:09.227402Z"
    }
   },
   "outputs": [],
   "source": [
    "model = GAR(base_model=LinearRegression())"
   ]
  },
  {
   "cell_type": "code",
   "execution_count": 31,
   "metadata": {
    "ExecuteTime": {
     "end_time": "2019-12-19T14:45:09.467974Z",
     "start_time": "2019-12-19T14:45:09.458956Z"
    }
   },
   "outputs": [],
   "source": [
    "model = model.fit(X_train, y_train)"
   ]
  },
  {
   "cell_type": "code",
   "execution_count": 32,
   "metadata": {
    "ExecuteTime": {
     "end_time": "2019-12-19T14:45:20.428649Z",
     "start_time": "2019-12-19T14:45:20.414290Z"
    }
   },
   "outputs": [],
   "source": [
    "predictions = model.predict(X_test)"
   ]
  },
  {
   "cell_type": "code",
   "execution_count": 36,
   "metadata": {
    "ExecuteTime": {
     "end_time": "2019-12-19T15:49:35.236013Z",
     "start_time": "2019-12-19T15:49:35.225037Z"
    },
    "scrolled": true
   },
   "outputs": [
    {
     "data": {
      "text/html": [
       "<div>\n",
       "<style scoped>\n",
       "    .dataframe tbody tr th:only-of-type {\n",
       "        vertical-align: middle;\n",
       "    }\n",
       "\n",
       "    .dataframe tbody tr th {\n",
       "        vertical-align: top;\n",
       "    }\n",
       "\n",
       "    .dataframe thead th {\n",
       "        text-align: right;\n",
       "    }\n",
       "</style>\n",
       "<table border=\"1\" class=\"dataframe\">\n",
       "  <thead>\n",
       "    <tr style=\"text-align: right;\">\n",
       "      <th></th>\n",
       "      <th>y_0</th>\n",
       "      <th>y_1</th>\n",
       "      <th>y_2</th>\n",
       "    </tr>\n",
       "  </thead>\n",
       "  <tbody>\n",
       "    <tr>\n",
       "      <th>2001-05-13</th>\n",
       "      <td>0.498604</td>\n",
       "      <td>-1.11394</td>\n",
       "      <td>NaN</td>\n",
       "    </tr>\n",
       "    <tr>\n",
       "      <th>2001-05-14</th>\n",
       "      <td>-1.113940</td>\n",
       "      <td>NaN</td>\n",
       "      <td>NaN</td>\n",
       "    </tr>\n",
       "  </tbody>\n",
       "</table>\n",
       "</div>"
      ],
      "text/plain": [
       "                 y_0      y_1  y_2\n",
       "2001-05-13  0.498604 -1.11394  NaN\n",
       "2001-05-14 -1.113940      NaN  NaN"
      ]
     },
     "execution_count": 36,
     "metadata": {},
     "output_type": "execute_result"
    }
   ],
   "source": [
    "y_test"
   ]
  },
  {
   "cell_type": "code",
   "execution_count": 33,
   "metadata": {
    "ExecuteTime": {
     "end_time": "2019-12-19T14:45:22.160170Z",
     "start_time": "2019-12-19T14:45:22.152303Z"
    }
   },
   "outputs": [
    {
     "data": {
      "text/html": [
       "<div>\n",
       "<style scoped>\n",
       "    .dataframe tbody tr th:only-of-type {\n",
       "        vertical-align: middle;\n",
       "    }\n",
       "\n",
       "    .dataframe tbody tr th {\n",
       "        vertical-align: top;\n",
       "    }\n",
       "\n",
       "    .dataframe thead th {\n",
       "        text-align: right;\n",
       "    }\n",
       "</style>\n",
       "<table border=\"1\" class=\"dataframe\">\n",
       "  <thead>\n",
       "    <tr style=\"text-align: right;\">\n",
       "      <th></th>\n",
       "      <th>y_0</th>\n",
       "      <th>y_1</th>\n",
       "      <th>y_2</th>\n",
       "    </tr>\n",
       "  </thead>\n",
       "  <tbody>\n",
       "    <tr>\n",
       "      <th>2001-05-13</th>\n",
       "      <td>0.168957</td>\n",
       "      <td>0.024196</td>\n",
       "      <td>0.083588</td>\n",
       "    </tr>\n",
       "    <tr>\n",
       "      <th>2001-05-14</th>\n",
       "      <td>0.019240</td>\n",
       "      <td>0.075777</td>\n",
       "      <td>0.110530</td>\n",
       "    </tr>\n",
       "  </tbody>\n",
       "</table>\n",
       "</div>"
      ],
      "text/plain": [
       "                 y_0       y_1       y_2\n",
       "2001-05-13  0.168957  0.024196  0.083588\n",
       "2001-05-14  0.019240  0.075777  0.110530"
      ]
     },
     "execution_count": 33,
     "metadata": {},
     "output_type": "execute_result"
    }
   ],
   "source": [
    "predictions"
   ]
  }
 ],
 "metadata": {
  "kernelspec": {
   "display_name": "Python 3",
   "language": "python",
   "name": "python3"
  },
  "language_info": {
   "codemirror_mode": {
    "name": "ipython",
    "version": 3
   },
   "file_extension": ".py",
   "mimetype": "text/x-python",
   "name": "python",
   "nbconvert_exporter": "python",
   "pygments_lexer": "ipython3",
   "version": "3.6.9"
  },
  "toc": {
   "base_numbering": 1,
   "nav_menu": {},
   "number_sections": true,
   "sideBar": true,
   "skip_h1_title": false,
   "title_cell": "Table of Contents",
   "title_sidebar": "Contents",
   "toc_cell": false,
   "toc_position": {},
   "toc_section_display": true,
   "toc_window_display": false
  }
 },
 "nbformat": 4,
 "nbformat_minor": 2
}
