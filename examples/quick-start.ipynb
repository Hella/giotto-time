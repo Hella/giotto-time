{
 "cells": [
  {
   "cell_type": "markdown",
   "metadata": {
    "ExecuteTime": {
     "end_time": "2019-12-19T10:34:45.079040Z",
     "start_time": "2019-12-19T10:34:45.075853Z"
    }
   },
   "source": [
    "# Giotto-Time\n",
    "\n",
    "Welcome to `giotto-time`, our new library for time series forecasting!\n",
    "\n",
    "Let's start with an example."
   ]
  },
  {
   "cell_type": "markdown",
   "metadata": {
    "ExecuteTime": {
     "end_time": "2019-12-19T10:37:13.829605Z",
     "start_time": "2019-12-19T10:37:13.827033Z"
    }
   },
   "source": [
    "## First example"
   ]
  },
  {
   "cell_type": "markdown",
   "metadata": {
    "ExecuteTime": {
     "end_time": "2019-12-19T10:51:37.701263Z",
     "start_time": "2019-12-19T10:51:37.698686Z"
    }
   },
   "source": [
    "### Ingredients"
   ]
  },
  {
   "cell_type": "markdown",
   "metadata": {
    "ExecuteTime": {
     "end_time": "2019-12-19T10:43:03.249232Z",
     "start_time": "2019-12-19T10:43:03.244743Z"
    }
   },
   "source": [
    "These are the main ingredients of `giotto-time`:"
   ]
  },
  {
   "cell_type": "code",
   "execution_count": 1,
   "metadata": {
    "ExecuteTime": {
     "end_time": "2019-12-20T11:08:40.433188Z",
     "start_time": "2019-12-20T11:08:39.863805Z"
    }
   },
   "outputs": [],
   "source": [
    "from giottotime.time_series_preparation import TimeSeriesPreparation\n",
    "from giottotime.feature_creation import FeatureCreation, ShiftFeature, MovingAverageFeature\n",
    "from giottotime.model_selection import FeatureSplitter\n",
    "from giottotime.models import GAR"
   ]
  },
  {
   "cell_type": "markdown",
   "metadata": {
    "ExecuteTime": {
     "end_time": "2019-12-19T10:43:23.300668Z",
     "start_time": "2019-12-19T10:43:23.100775Z"
    }
   },
   "source": [
    "- `TimeSeriesPreparation`: checks the input format of the time series and converts it to the expected format.\n",
    "- `FeatureCreation`, `ShiftFeature`, `MovingAverageFeature`: create the desired features on the time series that are \n",
    "    used for the forecasting.\n",
    "- `FeatureSplitter`: prepares the custom `giotto-time` train-test matrices that are used in the model\n",
    "- `GAR`: generalized-auto-regressive model. This is the only time series model that we provide for the first release."
   ]
  },
  {
   "cell_type": "markdown",
   "metadata": {
    "ExecuteTime": {
     "end_time": "2019-12-19T10:50:42.797962Z",
     "start_time": "2019-12-19T10:50:42.792529Z"
    }
   },
   "source": [
    "We also need a `scikit-learn`-model. We go for a standard linear regressor for this example"
   ]
  },
  {
   "cell_type": "code",
   "execution_count": 2,
   "metadata": {
    "ExecuteTime": {
     "end_time": "2019-12-20T11:08:41.268423Z",
     "start_time": "2019-12-20T11:08:41.265378Z"
    }
   },
   "outputs": [],
   "source": [
    "from sklearn.linear_model import LinearRegression"
   ]
  },
  {
   "cell_type": "markdown",
   "metadata": {
    "ExecuteTime": {
     "end_time": "2019-12-19T10:51:15.298065Z",
     "start_time": "2019-12-19T10:51:15.295733Z"
    }
   },
   "source": [
    "### Data"
   ]
  },
  {
   "cell_type": "markdown",
   "metadata": {
    "ExecuteTime": {
     "end_time": "2019-12-19T10:55:55.362286Z",
     "start_time": "2019-12-19T10:55:55.358045Z"
    }
   },
   "source": [
    "We use the `pandas.testing` module to create a testing time series"
   ]
  },
  {
   "cell_type": "code",
   "execution_count": 3,
   "metadata": {
    "ExecuteTime": {
     "end_time": "2019-12-20T11:08:42.074384Z",
     "start_time": "2019-12-20T11:08:42.070697Z"
    }
   },
   "outputs": [],
   "source": [
    "def test_time_series():\n",
    "    from pandas.util import testing as testing\n",
    "    \n",
    "    testing.N, testing.K = 500, 1\n",
    "    df = testing.makeTimeDataFrame( freq=\"D\" )\n",
    "    return df"
   ]
  },
  {
   "cell_type": "code",
   "execution_count": 4,
   "metadata": {
    "ExecuteTime": {
     "end_time": "2019-12-20T11:08:42.366492Z",
     "start_time": "2019-12-20T11:08:42.361791Z"
    }
   },
   "outputs": [],
   "source": [
    "time_series = test_time_series()"
   ]
  },
  {
   "cell_type": "markdown",
   "metadata": {
    "ExecuteTime": {
     "end_time": "2019-12-19T13:37:09.941132Z",
     "start_time": "2019-12-19T13:37:09.938476Z"
    }
   },
   "source": [
    "### Time Series Preparation"
   ]
  },
  {
   "cell_type": "markdown",
   "metadata": {
    "ExecuteTime": {
     "end_time": "2019-12-19T13:37:33.357619Z",
     "start_time": "2019-12-19T13:37:33.347192Z"
    }
   },
   "source": [
    "The input time series has to be a `pandas.DataFrame` with a `PeriodIndex`. Use the provided class `TimeSeriesPreparation` to convert the time series in this format"
   ]
  },
  {
   "cell_type": "code",
   "execution_count": 5,
   "metadata": {
    "ExecuteTime": {
     "end_time": "2019-12-20T11:08:43.161252Z",
     "start_time": "2019-12-20T11:08:43.158360Z"
    }
   },
   "outputs": [],
   "source": [
    "time_series_preparation = TimeSeriesPreparation()"
   ]
  },
  {
   "cell_type": "code",
   "execution_count": 6,
   "metadata": {
    "ExecuteTime": {
     "end_time": "2019-12-20T11:08:43.428293Z",
     "start_time": "2019-12-20T11:08:43.421929Z"
    }
   },
   "outputs": [],
   "source": [
    "period_index_time_series = time_series_preparation.transform(time_series)"
   ]
  },
  {
   "cell_type": "markdown",
   "metadata": {
    "ExecuteTime": {
     "end_time": "2019-12-19T14:15:31.332440Z",
     "start_time": "2019-12-19T14:15:31.322583Z"
    }
   },
   "source": [
    "### Feature Creation"
   ]
  },
  {
   "cell_type": "markdown",
   "metadata": {
    "ExecuteTime": {
     "end_time": "2019-12-19T14:20:25.312078Z",
     "start_time": "2019-12-19T14:20:25.307741Z"
    }
   },
   "source": [
    "The feature creation part is one of the core part of our library and the bridge between traditional time series forecasting techniques and machine learning.\n",
    "\n",
    "Starting with a time series in a `pandas.DataFrame`, we create two matrices `X` and `y` which can be used for training and testing."
   ]
  },
  {
   "cell_type": "markdown",
   "metadata": {
    "ExecuteTime": {
     "end_time": "2019-12-19T14:49:59.729021Z",
     "start_time": "2019-12-19T14:49:59.718573Z"
    }
   },
   "source": [
    "We provide 12 different features. For simplicity we train a model using only `ShiftFeature` and `MovingAverageFeature`. \n",
    "\n",
    "`ShiftFeature` provides a temporal shift of the time series. Adding two `ShiftFeature` with shifts 1 and 2 is equivalent to an `AR(2)` model. \n",
    "\n",
    "The possibility to add the features that you want allows you to choose the model that best fits your data."
   ]
  },
  {
   "cell_type": "code",
   "execution_count": 7,
   "metadata": {
    "ExecuteTime": {
     "end_time": "2019-12-20T11:08:44.450001Z",
     "start_time": "2019-12-20T11:08:44.446647Z"
    }
   },
   "outputs": [],
   "source": [
    "features = [\n",
    "    ShiftFeature(1, output_name='shift_1'),\n",
    "    ShiftFeature(2, output_name='shift_2'),\n",
    "    MovingAverageFeature(3, output_name='moving_average_3'),\n",
    "]"
   ]
  },
  {
   "cell_type": "code",
   "execution_count": 8,
   "metadata": {
    "ExecuteTime": {
     "end_time": "2019-12-20T11:08:44.737915Z",
     "start_time": "2019-12-20T11:08:44.734648Z"
    }
   },
   "outputs": [],
   "source": [
    "feature_creation = FeatureCreation(time_series_features=features, horizon=3)"
   ]
  },
  {
   "cell_type": "code",
   "execution_count": 9,
   "metadata": {
    "ExecuteTime": {
     "end_time": "2019-12-20T11:08:45.045070Z",
     "start_time": "2019-12-20T11:08:45.022402Z"
    }
   },
   "outputs": [],
   "source": [
    "features_X, features_y = feature_creation.fit_transform(period_index_time_series)"
   ]
  },
  {
   "cell_type": "markdown",
   "metadata": {
    "ExecuteTime": {
     "end_time": "2019-12-19T14:42:32.549572Z",
     "start_time": "2019-12-19T14:42:32.547124Z"
    }
   },
   "source": [
    "### Train-Test split"
   ]
  },
  {
   "cell_type": "markdown",
   "metadata": {
    "ExecuteTime": {
     "end_time": "2019-12-20T10:59:18.112521Z",
     "start_time": "2019-12-20T10:59:18.108823Z"
    }
   },
   "source": [
    "We use `FeatureSplitter` to split the matrices X and y in train and test. "
   ]
  },
  {
   "cell_type": "code",
   "execution_count": 10,
   "metadata": {
    "ExecuteTime": {
     "end_time": "2019-12-20T11:08:45.885739Z",
     "start_time": "2019-12-20T11:08:45.882557Z"
    }
   },
   "outputs": [],
   "source": [
    "feature_splitter = FeatureSplitter()"
   ]
  },
  {
   "cell_type": "code",
   "execution_count": 11,
   "metadata": {
    "ExecuteTime": {
     "end_time": "2019-12-20T11:08:46.240108Z",
     "start_time": "2019-12-20T11:08:46.221414Z"
    }
   },
   "outputs": [],
   "source": [
    "X_train, y_train, X_test, y_test = feature_splitter.transform(features_X, features_y)"
   ]
  },
  {
   "cell_type": "markdown",
   "metadata": {
    "ExecuteTime": {
     "end_time": "2019-12-19T14:44:02.820817Z",
     "start_time": "2019-12-19T14:44:02.818276Z"
    }
   },
   "source": [
    "### Training"
   ]
  },
  {
   "cell_type": "markdown",
   "metadata": {
    "ExecuteTime": {
     "end_time": "2019-12-20T11:01:12.922844Z",
     "start_time": "2019-12-20T11:01:12.919591Z"
    }
   },
   "source": [
    "We provide a `GAR` (Generalized Auto Regressive) model to forecast the time series.\n",
    "\n",
    "The traditional `AR` model is equivalent to our `GAR` model that uses only `ShiftFeature` columns in the `X` matrix.\n",
    "`GAR` supports all the features compatible with the feature creation step.\n",
    "\n",
    "Moreover, `GAR` internally uses a `scikit-learn` compatible model for the internal time series regression. \n",
    "In this example we use `LinearRegression`. A priori all the `fit-transform-predict` models are compatible (e.g. ridge regression, random forest, boosting, etc.. "
   ]
  },
  {
   "cell_type": "code",
   "execution_count": 12,
   "metadata": {
    "ExecuteTime": {
     "end_time": "2019-12-20T11:08:47.555831Z",
     "start_time": "2019-12-20T11:08:47.553017Z"
    }
   },
   "outputs": [],
   "source": [
    "model = GAR(base_model=LinearRegression())"
   ]
  },
  {
   "cell_type": "code",
   "execution_count": 13,
   "metadata": {
    "ExecuteTime": {
     "end_time": "2019-12-20T11:08:48.059122Z",
     "start_time": "2019-12-20T11:08:48.050062Z"
    }
   },
   "outputs": [],
   "source": [
    "model = model.fit(X_train, y_train)"
   ]
  },
  {
   "cell_type": "markdown",
   "metadata": {
    "ExecuteTime": {
     "end_time": "2019-12-20T11:01:01.280526Z",
     "start_time": "2019-12-20T11:01:01.278125Z"
    }
   },
   "source": [
    "### Forecasting"
   ]
  },
  {
   "cell_type": "markdown",
   "metadata": {
    "ExecuteTime": {
     "end_time": "2019-12-20T11:10:02.544672Z",
     "start_time": "2019-12-20T11:10:02.540859Z"
    }
   },
   "source": [
    "We forecast 3 time steps of the time series (we set this parameter in `FeatureCreation`).\n",
    "\n",
    "The format of the output is the following:\n",
    "- the index is the step at which the prediction is made.\n",
    "- the column `y_1` is the prediction one time step after and so on for `y_2` and `y_3`"
   ]
  },
  {
   "cell_type": "code",
   "execution_count": 14,
   "metadata": {
    "ExecuteTime": {
     "end_time": "2019-12-20T11:08:48.939181Z",
     "start_time": "2019-12-20T11:08:48.931145Z"
    }
   },
   "outputs": [],
   "source": [
    "predictions = model.predict(X_test)"
   ]
  },
  {
   "cell_type": "code",
   "execution_count": 15,
   "metadata": {
    "ExecuteTime": {
     "end_time": "2019-12-20T11:08:50.014625Z",
     "start_time": "2019-12-20T11:08:49.989948Z"
    }
   },
   "outputs": [
    {
     "data": {
      "text/html": [
       "<div>\n",
       "<style scoped>\n",
       "    .dataframe tbody tr th:only-of-type {\n",
       "        vertical-align: middle;\n",
       "    }\n",
       "\n",
       "    .dataframe tbody tr th {\n",
       "        vertical-align: top;\n",
       "    }\n",
       "\n",
       "    .dataframe thead th {\n",
       "        text-align: right;\n",
       "    }\n",
       "</style>\n",
       "<table border=\"1\" class=\"dataframe\">\n",
       "  <thead>\n",
       "    <tr style=\"text-align: right;\">\n",
       "      <th></th>\n",
       "      <th>y_1</th>\n",
       "      <th>y_2</th>\n",
       "      <th>y_3</th>\n",
       "    </tr>\n",
       "  </thead>\n",
       "  <tbody>\n",
       "    <tr>\n",
       "      <th>2001-05-12</th>\n",
       "      <td>-0.149298</td>\n",
       "      <td>-0.164899</td>\n",
       "      <td>-0.092473</td>\n",
       "    </tr>\n",
       "    <tr>\n",
       "      <th>2001-05-13</th>\n",
       "      <td>-0.150681</td>\n",
       "      <td>-0.085710</td>\n",
       "      <td>-0.063871</td>\n",
       "    </tr>\n",
       "    <tr>\n",
       "      <th>2001-05-14</th>\n",
       "      <td>-0.066199</td>\n",
       "      <td>-0.134353</td>\n",
       "      <td>-0.095745</td>\n",
       "    </tr>\n",
       "  </tbody>\n",
       "</table>\n",
       "</div>"
      ],
      "text/plain": [
       "                 y_1       y_2       y_3\n",
       "2001-05-12 -0.149298 -0.164899 -0.092473\n",
       "2001-05-13 -0.150681 -0.085710 -0.063871\n",
       "2001-05-14 -0.066199 -0.134353 -0.095745"
      ]
     },
     "execution_count": 15,
     "metadata": {},
     "output_type": "execute_result"
    }
   ],
   "source": [
    "predictions"
   ]
  },
  {
   "cell_type": "code",
   "execution_count": null,
   "metadata": {},
   "outputs": [],
   "source": []
  }
 ],
 "metadata": {
  "kernelspec": {
   "display_name": "Python 3",
   "language": "python",
   "name": "python3"
  },
  "language_info": {
   "codemirror_mode": {
    "name": "ipython",
    "version": 3
   },
   "file_extension": ".py",
   "mimetype": "text/x-python",
   "name": "python",
   "nbconvert_exporter": "python",
   "pygments_lexer": "ipython3",
   "version": "3.6.9"
  },
  "toc": {
   "base_numbering": 1,
   "nav_menu": {},
   "number_sections": true,
   "sideBar": true,
   "skip_h1_title": false,
   "title_cell": "Table of Contents",
   "title_sidebar": "Contents",
   "toc_cell": false,
   "toc_position": {},
   "toc_section_display": true,
   "toc_window_display": false
  }
 },
 "nbformat": 4,
 "nbformat_minor": 2
}
